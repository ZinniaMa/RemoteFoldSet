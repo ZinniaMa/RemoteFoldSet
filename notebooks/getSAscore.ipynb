{
 "cells": [
  {
   "cell_type": "code",
   "execution_count": 1,
   "id": "c119128b",
   "metadata": {},
   "outputs": [],
   "source": [
    "from tqdm import tqdm\n",
    "import pickle\n",
    "import pandas as pd\n",
    "import numpy as np\n",
    "import sys\n",
    "import os"
   ]
  },
  {
   "cell_type": "code",
   "execution_count": 2,
   "id": "c41f4b06",
   "metadata": {},
   "outputs": [],
   "source": [
    "sys.path.append(os.path.abspath(\"..\"))"
   ]
  },
  {
   "cell_type": "markdown",
   "id": "1a3cbeee",
   "metadata": {},
   "source": [
    "# Using ESM-2 (650M) as an Example"
   ]
  },
  {
   "cell_type": "code",
   "execution_count": 3,
   "id": "8fd2429f",
   "metadata": {},
   "outputs": [],
   "source": [
    "# load embeddings\n",
    "esm2_df = pd.read_pickle(\"../embeddings/esm2_650m_embeddings.pkl\")\n",
    "esm2_df = esm2_df.sort_values(by=\"name\").reset_index(drop=True)"
   ]
  },
  {
   "cell_type": "code",
   "execution_count": 4,
   "id": "a0929045",
   "metadata": {},
   "outputs": [
    {
     "data": {
      "text/html": [
       "<div>\n",
       "<style scoped>\n",
       "    .dataframe tbody tr th:only-of-type {\n",
       "        vertical-align: middle;\n",
       "    }\n",
       "\n",
       "    .dataframe tbody tr th {\n",
       "        vertical-align: top;\n",
       "    }\n",
       "\n",
       "    .dataframe thead th {\n",
       "        text-align: right;\n",
       "    }\n",
       "</style>\n",
       "<table border=\"1\" class=\"dataframe\">\n",
       "  <thead>\n",
       "    <tr style=\"text-align: right;\">\n",
       "      <th></th>\n",
       "      <th>name</th>\n",
       "      <th>seq</th>\n",
       "      <th>embedding</th>\n",
       "    </tr>\n",
       "  </thead>\n",
       "  <tbody>\n",
       "    <tr>\n",
       "      <th>0</th>\n",
       "      <td>1a0rb00_1</td>\n",
       "      <td>GNTLIKLRTNKTRSHFKQILLEWTACSSLDQLANGDTPLPRPNLEA...</td>\n",
       "      <td>[-0.019338347, 0.04004511, -0.021763504, -0.08...</td>\n",
       "    </tr>\n",
       "    <tr>\n",
       "      <th>1</th>\n",
       "      <td>1a0rb00_10</td>\n",
       "      <td>SDHNEMKDMQREMVQLMQSGIAFGAKRGHTMKADSIPALPRMRWTL...</td>\n",
       "      <td>[-0.0068553938, 0.045937255, 0.0027827749, -0....</td>\n",
       "    </tr>\n",
       "    <tr>\n",
       "      <th>2</th>\n",
       "      <td>1a0rb00_11</td>\n",
       "      <td>EDLALQRMASSFQSVKEARKLHEMHIYRRETVWDDVSPLSNINPYK...</td>\n",
       "      <td>[0.031198354, 0.007636538, -0.002887135, -0.05...</td>\n",
       "    </tr>\n",
       "    <tr>\n",
       "      <th>3</th>\n",
       "      <td>1a0rb00_12</td>\n",
       "      <td>ANDQQSVWTEEVFNSEKRKETAEEKNKALSLVMNDKPPLPKMKLQK...</td>\n",
       "      <td>[0.020144032, 0.015431936, -0.00024650976, -0....</td>\n",
       "    </tr>\n",
       "    <tr>\n",
       "      <th>4</th>\n",
       "      <td>1a0rb00_13</td>\n",
       "      <td>ILPYVLCFIAQLLGAQEMAARGTLSSMRLEEKNADTQGVQAVVPHI...</td>\n",
       "      <td>[0.031016467, 0.0332541, 0.028199002, -0.03262...</td>\n",
       "    </tr>\n",
       "  </tbody>\n",
       "</table>\n",
       "</div>"
      ],
      "text/plain": [
       "         name                                                seq  \\\n",
       "0   1a0rb00_1  GNTLIKLRTNKTRSHFKQILLEWTACSSLDQLANGDTPLPRPNLEA...   \n",
       "1  1a0rb00_10  SDHNEMKDMQREMVQLMQSGIAFGAKRGHTMKADSIPALPRMRWTL...   \n",
       "2  1a0rb00_11  EDLALQRMASSFQSVKEARKLHEMHIYRRETVWDDVSPLSNINPYK...   \n",
       "3  1a0rb00_12  ANDQQSVWTEEVFNSEKRKETAEEKNKALSLVMNDKPPLPKMKLQK...   \n",
       "4  1a0rb00_13  ILPYVLCFIAQLLGAQEMAARGTLSSMRLEEKNADTQGVQAVVPHI...   \n",
       "\n",
       "                                           embedding  \n",
       "0  [-0.019338347, 0.04004511, -0.021763504, -0.08...  \n",
       "1  [-0.0068553938, 0.045937255, 0.0027827749, -0....  \n",
       "2  [0.031198354, 0.007636538, -0.002887135, -0.05...  \n",
       "3  [0.020144032, 0.015431936, -0.00024650976, -0....  \n",
       "4  [0.031016467, 0.0332541, 0.028199002, -0.03262...  "
      ]
     },
     "execution_count": 4,
     "metadata": {},
     "output_type": "execute_result"
    }
   ],
   "source": [
    "esm2_df.head()"
   ]
  },
  {
   "cell_type": "code",
   "execution_count": 5,
   "id": "2fe664c1",
   "metadata": {},
   "outputs": [
    {
     "name": "stdout",
     "output_type": "stream",
     "text": [
      "['1a0rb00', '1a1va01', '1a2va03', '1a44a00', '1a5aa00', '1a7va00', '1a8da02', '1a9nc00', '1a9xb01', '1b77a00', '1b9va00', '1bhea00', '1bp1a01', '1bwda00', '1c1yb00', '1c3ka00', '1c5ka02', '1cb8a01', '1cb8a02', '1ciya02', '1d8ca02', '1dl2a00', '1e2ra02', '1ea0a04', '1ee8a01', '1ejca02', '1f3ya00', '1fbla02', '1flga00', '1g8jb00', '1gofa02', '1gydb00', '1hyoa01', '1i2mb00', '1igra01', '1iuca00', '1iwla00', '1j5ua01', '1k32a01', '1l1da00', '1l5ja01', '1okca00', '1orva01', '1pg6a00', '1pprm01', '1qmha01', '1rz4a01', '1s1da00', '1tg7a02', '1tl2a00', '1tyea00', '1vmoa00', '1wrua02', '1y65a00', '1ynfa00', '1zl0b02', '2byoa00', '2g3va00', '2i9ia00', '2j9la02', '2jzda01', '2psba00', '2qgqa01', '2qp2a02', '2r5oa01', '2rcka01', '2yzsa01', '2zf3c00', '3a0oa03', '3au4a01', '3bwsa01', '3cana00', '3djma00', '3e0sa00', '3h4zb03', '3hbma01', '3k9ta02', '3kt4a02', '3m71a00', '3o4ha01', '3oh3a02', '3p5pa02', '4c91a02', '4d8ma03', '4dt5a00', '4fhda02', '4h75a00', '4iglb00', '4mvea00', '4oj5c04']\n"
     ]
    }
   ],
   "source": [
    "domain_names = []\n",
    "for name in list(esm2_df['name']):\n",
    "    domain_name = name.split(\"_\")[0]\n",
    "    if domain_name not in domain_names:\n",
    "        domain_names.append(domain_name)\n",
    "print(domain_names)"
   ]
  },
  {
   "cell_type": "code",
   "execution_count": 6,
   "id": "c9fda2c3",
   "metadata": {},
   "outputs": [
    {
     "data": {
      "text/plain": [
       "1440"
      ]
     },
     "execution_count": 6,
     "metadata": {},
     "output_type": "execute_result"
    }
   ],
   "source": [
    "sequence_representations = esm2_df[\"embedding\"].tolist()\n",
    "len(sequence_representations)"
   ]
  },
  {
   "cell_type": "markdown",
   "id": "f4d87810",
   "metadata": {},
   "source": [
    "# SA socre"
   ]
  },
  {
   "cell_type": "code",
   "execution_count": 7,
   "id": "c2bc20f7",
   "metadata": {},
   "outputs": [],
   "source": [
    "from metrics.sa_score import group_sa_score"
   ]
  },
  {
   "cell_type": "code",
   "execution_count": 8,
   "id": "3e15ac5b",
   "metadata": {},
   "outputs": [
    {
     "name": "stdout",
     "output_type": "stream",
     "text": [
      "Mean after centering (should be ~0): 1.6057502989497152e-06\n"
     ]
    }
   ],
   "source": [
    "# mean centering\n",
    "embeddings = np.array(sequence_representations)\n",
    "mean_vector = np.mean(embeddings, axis=0)\n",
    "centered_embeddings = embeddings - mean_vector\n",
    "new_mean = np.mean(centered_embeddings, axis=0)\n",
    "print(f\"Mean after centering (should be ~0): {np.linalg.norm(new_mean)}\")"
   ]
  },
  {
   "cell_type": "code",
   "execution_count": 9,
   "id": "d9755e1c",
   "metadata": {},
   "outputs": [
    {
     "name": "stdout",
     "output_type": "stream",
     "text": [
      "[np.float32(0.92592865), np.float32(0.63391423), np.float32(0.56260246), np.float32(0.80145824), np.float32(0.84591424), np.float32(0.22284229), np.float32(0.6670427), np.float32(0.89257073), np.float32(0.48481143), np.float32(0.53120416), np.float32(0.8128766), np.float32(0.8292468), np.float32(0.8134963), np.float32(0.35247332), np.float32(0.7640274), np.float32(0.8937477), np.float32(0.8938693), np.float32(0.2874857), np.float32(0.3989958), np.float32(0.77381134), np.float32(0.6032808), np.float32(0.64646024), np.float32(0.63107324), np.float32(0.6557429), np.float32(0.29715022), np.float32(0.3626785), np.float32(0.47775748), np.float32(0.74370855), np.float32(0.8884083), np.float32(0.775594), np.float32(0.8378929), np.float32(0.84927255), np.float32(0.7252289), np.float32(0.91541463), np.float32(0.74235815), np.float32(0.8549446), np.float32(0.1406236), np.float32(0.39368042), np.float32(0.66945326), np.float32(0.6047391), np.float32(0.60914624), np.float32(0.53537935), np.float32(0.86493534), np.float32(0.5205459), np.float32(0.6940651), np.float32(0.63037705), np.float32(0.2700233), np.float32(0.58254534), np.float32(0.6919741), np.float32(0.84731644), np.float32(0.82956386), np.float32(0.8065946), np.float32(0.6353085), np.float32(0.87809736), np.float32(0.5840978), np.float32(0.14535584), np.float32(0.28073928), np.float32(0.74342436), np.float32(0.6192693), np.float32(0.30213058), np.float32(0.683843), np.float32(0.110257044), np.float32(0.5945531), np.float32(0.5050168), np.float32(0.38557687), np.float32(0.5613612), np.float32(0.7480592), np.float32(0.47476518), np.float32(0.6224768), np.float32(0.5017324), np.float32(0.41473848), np.float32(0.8306713), np.float32(0.10921846), np.float32(0.41997197), np.float32(0.7881045), np.float32(0.2308804), np.float32(0.5577405), np.float32(0.4479535), np.float32(0.57381946), np.float32(0.5395107), np.float32(0.5853556), np.float32(0.63873285), np.float32(0.23508859), np.float32(0.69339794), np.float32(0.7729632), np.float32(0.19330923), np.float32(0.35713336), np.float32(0.72336835), np.float32(0.20366104), np.float32(0.4663749)]\n"
     ]
    }
   ],
   "source": [
    "homogeneity = group_sa_score(centered_embeddings)\n",
    "print(homogeneity)"
   ]
  },
  {
   "cell_type": "code",
   "execution_count": 10,
   "id": "22fc3aa1",
   "metadata": {},
   "outputs": [
    {
     "data": {
      "image/png": "[encoded data removed]",
      "text/plain": [
       "<Figure size 1800x900 with 1 Axes>"
      ]
     },
     "metadata": {},
     "output_type": "display_data"
    }
   ],
   "source": [
    "import matplotlib.pyplot as plt\n",
    "import seaborn as sns\n",
    "\n",
    "sns.set(style=\"darkgrid\")\n",
    "\n",
    "plt.figure(figsize=(6, 3), dpi=300)\n",
    "bars = plt.bar(range(len(homogeneity)), homogeneity, color='#82D4FA')\n",
    "# add values on top of bars\n",
    "#for bar in bars:\n",
    "#    yval = bar.get_height()\n",
    "#    plt.text(bar.get_x() + bar.get_width()/2, yval, round(yval, 2), ha='center', va='bottom', fontsize=8, rotation=90)\n",
    "plt.xlabel('Group Index')\n",
    "plt.ylabel('Structural Awareness Score')\n",
    "plt.title('Structural Awareness Score of ESM-2 Embeddings')\n",
    "#plt.xticks(range(len(homogeneity)), domain_names, rotation=45, fontsize=8)\n",
    "plt.show()"
   ]
  },
  {
   "cell_type": "markdown",
   "id": "2ea42c2a",
   "metadata": {},
   "source": [
    "### by CATH Classes"
   ]
  },
  {
   "cell_type": "code",
   "execution_count": 11,
   "id": "80d81b41",
   "metadata": {},
   "outputs": [],
   "source": [
    "with open(\"../saved/domain_to_superfamily_dict.pkl\", \"rb\") as f:\n",
    "    domain_to_superfamily_dict = pickle.load(f)"
   ]
  },
  {
   "cell_type": "code",
   "execution_count": 12,
   "id": "e175b829",
   "metadata": {},
   "outputs": [
    {
     "name": "stdout",
     "output_type": "stream",
     "text": [
      "Mean Homogeneity: 0.59, Std Homogeneity: 0.22\n"
     ]
    }
   ],
   "source": [
    "mean_homogeneity = np.mean(homogeneity)\n",
    "std_homogeneity = np.std(homogeneity)\n",
    "print(f\"Mean Homogeneity: {mean_homogeneity:.2f}, Std Homogeneity: {std_homogeneity:.2f}\")"
   ]
  },
  {
   "cell_type": "code",
   "execution_count": 13,
   "id": "648b5e9e",
   "metadata": {},
   "outputs": [],
   "source": [
    "mainlyalpha_homogeneity = []\n",
    "mainlybeta_homogeneity = []\n",
    "alphabeta_homogeneity = []\n",
    "for domain_name, homogeneity_score in zip(domain_names, homogeneity):\n",
    "    domain_name = domain_name[:4]+domain_name[4:].upper()\n",
    "    superfamily_name = domain_to_superfamily_dict[domain_name]\n",
    "    C,A,T,H = superfamily_name.split(\".\")\n",
    "    if C == \"1\":\n",
    "        mainlyalpha_homogeneity.append(homogeneity_score)\n",
    "    elif C == \"2\":\n",
    "        mainlybeta_homogeneity.append(homogeneity_score)\n",
    "    elif C == \"3\":\n",
    "        alphabeta_homogeneity.append(homogeneity_score)"
   ]
  },
  {
   "cell_type": "code",
   "execution_count": 14,
   "id": "94a70a38",
   "metadata": {},
   "outputs": [
    {
     "name": "stdout",
     "output_type": "stream",
     "text": [
      "Mainly Alpha: Mean 0.51, Std 0.17\n",
      "Mainly Beta: Mean 0.65, Std 0.21\n",
      "Alpha-Beta: Mean 0.55, Std 0.22\n"
     ]
    }
   ],
   "source": [
    "mean_mainlyalpha = np.mean(mainlyalpha_homogeneity)\n",
    "std_mainlyalpha = np.std(mainlyalpha_homogeneity)\n",
    "mean_mainlybeta = np.mean(mainlybeta_homogeneity)\n",
    "std_mainlybeta = np.std(mainlybeta_homogeneity)\n",
    "mean_alphabeta = np.mean(alphabeta_homogeneity)\n",
    "std_alphabeta = np.std(alphabeta_homogeneity)\n",
    "print(f\"Mainly Alpha: Mean {mean_mainlyalpha:.2f}, Std {std_mainlyalpha:.2f}\")\n",
    "print(f\"Mainly Beta: Mean {mean_mainlybeta:.2f}, Std {std_mainlybeta:.2f}\")\n",
    "print(f\"Alpha-Beta: Mean {mean_alphabeta:.2f}, Std {std_alphabeta:.2f}\")"
   ]
  },
  {
   "cell_type": "markdown",
   "id": "0867eeb6",
   "metadata": {},
   "source": [
    "# SA distance ratio"
   ]
  },
  {
   "cell_type": "code",
   "execution_count": 15,
   "id": "95999342",
   "metadata": {},
   "outputs": [],
   "source": [
    "from metrics.sa_distance_ratio import group_distance_ratio"
   ]
  },
  {
   "cell_type": "code",
   "execution_count": 16,
   "id": "624b9673",
   "metadata": {},
   "outputs": [],
   "source": [
    "classes = []\n",
    "for domain_name in esm2_df['name'].to_list():\n",
    "    domain_name = domain_name[:4]+domain_name[4:].upper().split(\"_\")[0]\n",
    "    superfamily_name = domain_to_superfamily_dict[domain_name]\n",
    "    C,A,T,H = superfamily_name.split(\".\")\n",
    "    if C == \"1\":\n",
    "        classes.append(\"mainlyalpha\")\n",
    "    elif C == \"2\":\n",
    "        classes.append(\"mainlybeta\")\n",
    "    elif C == \"3\":\n",
    "        classes.append(\"alphabeta\")"
   ]
  },
  {
   "cell_type": "code",
   "execution_count": 17,
   "id": "de20d39b",
   "metadata": {},
   "outputs": [
    {
     "data": {
      "text/html": [
       "<div>\n",
       "<style scoped>\n",
       "    .dataframe tbody tr th:only-of-type {\n",
       "        vertical-align: middle;\n",
       "    }\n",
       "\n",
       "    .dataframe tbody tr th {\n",
       "        vertical-align: top;\n",
       "    }\n",
       "\n",
       "    .dataframe thead th {\n",
       "        text-align: right;\n",
       "    }\n",
       "</style>\n",
       "<table border=\"1\" class=\"dataframe\">\n",
       "  <thead>\n",
       "    <tr style=\"text-align: right;\">\n",
       "      <th></th>\n",
       "      <th>name</th>\n",
       "      <th>seq</th>\n",
       "      <th>embedding</th>\n",
       "      <th>class</th>\n",
       "    </tr>\n",
       "  </thead>\n",
       "  <tbody>\n",
       "    <tr>\n",
       "      <th>0</th>\n",
       "      <td>1a0rb00_1</td>\n",
       "      <td>GNTLIKLRTNKTRSHFKQILLEWTACSSLDQLANGDTPLPRPNLEA...</td>\n",
       "      <td>[-0.019338347, 0.04004511, -0.021763504, -0.08...</td>\n",
       "      <td>mainlybeta</td>\n",
       "    </tr>\n",
       "    <tr>\n",
       "      <th>1</th>\n",
       "      <td>1a0rb00_10</td>\n",
       "      <td>SDHNEMKDMQREMVQLMQSGIAFGAKRGHTMKADSIPALPRMRWTL...</td>\n",
       "      <td>[-0.0068553938, 0.045937255, 0.0027827749, -0....</td>\n",
       "      <td>mainlybeta</td>\n",
       "    </tr>\n",
       "    <tr>\n",
       "      <th>2</th>\n",
       "      <td>1a0rb00_11</td>\n",
       "      <td>EDLALQRMASSFQSVKEARKLHEMHIYRRETVWDDVSPLSNINPYK...</td>\n",
       "      <td>[0.031198354, 0.007636538, -0.002887135, -0.05...</td>\n",
       "      <td>mainlybeta</td>\n",
       "    </tr>\n",
       "    <tr>\n",
       "      <th>3</th>\n",
       "      <td>1a0rb00_12</td>\n",
       "      <td>ANDQQSVWTEEVFNSEKRKETAEEKNKALSLVMNDKPPLPKMKLQK...</td>\n",
       "      <td>[0.020144032, 0.015431936, -0.00024650976, -0....</td>\n",
       "      <td>mainlybeta</td>\n",
       "    </tr>\n",
       "    <tr>\n",
       "      <th>4</th>\n",
       "      <td>1a0rb00_13</td>\n",
       "      <td>ILPYVLCFIAQLLGAQEMAARGTLSSMRLEEKNADTQGVQAVVPHI...</td>\n",
       "      <td>[0.031016467, 0.0332541, 0.028199002, -0.03262...</td>\n",
       "      <td>mainlybeta</td>\n",
       "    </tr>\n",
       "  </tbody>\n",
       "</table>\n",
       "</div>"
      ],
      "text/plain": [
       "         name                                                seq  \\\n",
       "0   1a0rb00_1  GNTLIKLRTNKTRSHFKQILLEWTACSSLDQLANGDTPLPRPNLEA...   \n",
       "1  1a0rb00_10  SDHNEMKDMQREMVQLMQSGIAFGAKRGHTMKADSIPALPRMRWTL...   \n",
       "2  1a0rb00_11  EDLALQRMASSFQSVKEARKLHEMHIYRRETVWDDVSPLSNINPYK...   \n",
       "3  1a0rb00_12  ANDQQSVWTEEVFNSEKRKETAEEKNKALSLVMNDKPPLPKMKLQK...   \n",
       "4  1a0rb00_13  ILPYVLCFIAQLLGAQEMAARGTLSSMRLEEKNADTQGVQAVVPHI...   \n",
       "\n",
       "                                           embedding       class  \n",
       "0  [-0.019338347, 0.04004511, -0.021763504, -0.08...  mainlybeta  \n",
       "1  [-0.0068553938, 0.045937255, 0.0027827749, -0....  mainlybeta  \n",
       "2  [0.031198354, 0.007636538, -0.002887135, -0.05...  mainlybeta  \n",
       "3  [0.020144032, 0.015431936, -0.00024650976, -0....  mainlybeta  \n",
       "4  [0.031016467, 0.0332541, 0.028199002, -0.03262...  mainlybeta  "
      ]
     },
     "execution_count": 17,
     "metadata": {},
     "output_type": "execute_result"
    }
   ],
   "source": [
    "esm2_df['class'] = classes\n",
    "esm2_df.head()"
   ]
  },
  {
   "cell_type": "code",
   "execution_count": 18,
   "id": "475a9d93",
   "metadata": {},
   "outputs": [
    {
     "data": {
      "text/html": [
       "<div>\n",
       "<style scoped>\n",
       "    .dataframe tbody tr th:only-of-type {\n",
       "        vertical-align: middle;\n",
       "    }\n",
       "\n",
       "    .dataframe tbody tr th {\n",
       "        vertical-align: top;\n",
       "    }\n",
       "\n",
       "    .dataframe thead th {\n",
       "        text-align: right;\n",
       "    }\n",
       "</style>\n",
       "<table border=\"1\" class=\"dataframe\">\n",
       "  <thead>\n",
       "    <tr style=\"text-align: right;\">\n",
       "      <th></th>\n",
       "      <th>name</th>\n",
       "      <th>seq</th>\n",
       "      <th>embedding</th>\n",
       "      <th>class</th>\n",
       "      <th>centered_embedding</th>\n",
       "    </tr>\n",
       "  </thead>\n",
       "  <tbody>\n",
       "    <tr>\n",
       "      <th>0</th>\n",
       "      <td>1a0rb00_1</td>\n",
       "      <td>GNTLIKLRTNKTRSHFKQILLEWTACSSLDQLANGDTPLPRPNLEA...</td>\n",
       "      <td>[-0.019338347, 0.04004511, -0.021763504, -0.08...</td>\n",
       "      <td>mainlybeta</td>\n",
       "      <td>[-0.055575888603925705, 0.03501877561211586, -...</td>\n",
       "    </tr>\n",
       "    <tr>\n",
       "      <th>1</th>\n",
       "      <td>1a0rb00_10</td>\n",
       "      <td>SDHNEMKDMQREMVQLMQSGIAFGAKRGHTMKADSIPALPRMRWTL...</td>\n",
       "      <td>[-0.0068553938, 0.045937255, 0.0027827749, -0....</td>\n",
       "      <td>mainlybeta</td>\n",
       "      <td>[-0.043092936277389526, 0.04091092199087143, 0...</td>\n",
       "    </tr>\n",
       "    <tr>\n",
       "      <th>2</th>\n",
       "      <td>1a0rb00_11</td>\n",
       "      <td>EDLALQRMASSFQSVKEARKLHEMHIYRRETVWDDVSPLSNINPYK...</td>\n",
       "      <td>[0.031198354, 0.007636538, -0.002887135, -0.05...</td>\n",
       "      <td>mainlybeta</td>\n",
       "      <td>[-0.0050391871482133865, 0.0026102056726813316...</td>\n",
       "    </tr>\n",
       "    <tr>\n",
       "      <th>3</th>\n",
       "      <td>1a0rb00_12</td>\n",
       "      <td>ANDQQSVWTEEVFNSEKRKETAEEKNKALSLVMNDKPPLPKMKLQK...</td>\n",
       "      <td>[0.020144032, 0.015431936, -0.00024650976, -0....</td>\n",
       "      <td>mainlybeta</td>\n",
       "      <td>[-0.016093509271740913, 0.010405603796243668, ...</td>\n",
       "    </tr>\n",
       "    <tr>\n",
       "      <th>4</th>\n",
       "      <td>1a0rb00_13</td>\n",
       "      <td>ILPYVLCFIAQLLGAQEMAARGTLSSMRLEEKNADTQGVQAVVPHI...</td>\n",
       "      <td>[0.031016467, 0.0332541, 0.028199002, -0.03262...</td>\n",
       "      <td>mainlybeta</td>\n",
       "      <td>[-0.0052210744470357895, 0.02822776511311531, ...</td>\n",
       "    </tr>\n",
       "  </tbody>\n",
       "</table>\n",
       "</div>"
      ],
      "text/plain": [
       "         name                                                seq  \\\n",
       "0   1a0rb00_1  GNTLIKLRTNKTRSHFKQILLEWTACSSLDQLANGDTPLPRPNLEA...   \n",
       "1  1a0rb00_10  SDHNEMKDMQREMVQLMQSGIAFGAKRGHTMKADSIPALPRMRWTL...   \n",
       "2  1a0rb00_11  EDLALQRMASSFQSVKEARKLHEMHIYRRETVWDDVSPLSNINPYK...   \n",
       "3  1a0rb00_12  ANDQQSVWTEEVFNSEKRKETAEEKNKALSLVMNDKPPLPKMKLQK...   \n",
       "4  1a0rb00_13  ILPYVLCFIAQLLGAQEMAARGTLSSMRLEEKNADTQGVQAVVPHI...   \n",
       "\n",
       "                                           embedding       class  \\\n",
       "0  [-0.019338347, 0.04004511, -0.021763504, -0.08...  mainlybeta   \n",
       "1  [-0.0068553938, 0.045937255, 0.0027827749, -0....  mainlybeta   \n",
       "2  [0.031198354, 0.007636538, -0.002887135, -0.05...  mainlybeta   \n",
       "3  [0.020144032, 0.015431936, -0.00024650976, -0....  mainlybeta   \n",
       "4  [0.031016467, 0.0332541, 0.028199002, -0.03262...  mainlybeta   \n",
       "\n",
       "                                  centered_embedding  \n",
       "0  [-0.055575888603925705, 0.03501877561211586, -...  \n",
       "1  [-0.043092936277389526, 0.04091092199087143, 0...  \n",
       "2  [-0.0050391871482133865, 0.0026102056726813316...  \n",
       "3  [-0.016093509271740913, 0.010405603796243668, ...  \n",
       "4  [-0.0052210744470357895, 0.02822776511311531, ...  "
      ]
     },
     "execution_count": 18,
     "metadata": {},
     "output_type": "execute_result"
    }
   ],
   "source": [
    "embeddings = np.array(esm2_df[\"embedding\"].tolist())\n",
    "mean_vector = np.mean(embeddings, axis=0)\n",
    "centered_embeddings = embeddings - mean_vector\n",
    "esm2_df['centered_embedding'] = centered_embeddings.tolist()\n",
    "esm2_df.head()"
   ]
  },
  {
   "cell_type": "code",
   "execution_count": 19,
   "id": "a9b34a55",
   "metadata": {},
   "outputs": [],
   "source": [
    "def df_to_score(df):\n",
    "    embeddings = np.array(df[\"centered_embedding\"].tolist())\n",
    "    homogeneity = group_distance_ratio(embeddings)\n",
    "    mean_homogeneity = np.mean(homogeneity)\n",
    "    std_homogeneity = np.std(homogeneity)\n",
    "    print(f\"Mean Homogeneity: {mean_homogeneity:.2f}, Std Homogeneity: {std_homogeneity:.2f}\")\n",
    "    return None"
   ]
  },
  {
   "cell_type": "code",
   "execution_count": 20,
   "id": "f305b306",
   "metadata": {},
   "outputs": [
    {
     "name": "stdout",
     "output_type": "stream",
     "text": [
      "Mean Homogeneity: 0.41, Std Homogeneity: 0.22\n"
     ]
    }
   ],
   "source": [
    "df_to_score(esm2_df)"
   ]
  },
  {
   "cell_type": "code",
   "execution_count": 21,
   "id": "02a184d4",
   "metadata": {},
   "outputs": [
    {
     "name": "stdout",
     "output_type": "stream",
     "text": [
      "Mean Homogeneity: 0.76, Std Homogeneity: 0.35\n"
     ]
    }
   ],
   "source": [
    "mainlyalpha_df = esm2_df[esm2_df['class'] == 'mainlyalpha']\n",
    "df_to_score(mainlyalpha_df)"
   ]
  },
  {
   "cell_type": "code",
   "execution_count": 22,
   "id": "27075baf",
   "metadata": {},
   "outputs": [
    {
     "name": "stdout",
     "output_type": "stream",
     "text": [
      "Mean Homogeneity: 0.36, Std Homogeneity: 0.21\n"
     ]
    }
   ],
   "source": [
    "mainlybeta_df = esm2_df[esm2_df['class'] == 'mainlybeta']\n",
    "df_to_score(mainlybeta_df)"
   ]
  },
  {
   "cell_type": "code",
   "execution_count": 23,
   "id": "19a1c0ff",
   "metadata": {},
   "outputs": [
    {
     "name": "stdout",
     "output_type": "stream",
     "text": [
      "Mean Homogeneity: 0.45, Std Homogeneity: 0.22\n"
     ]
    }
   ],
   "source": [
    "alphabeta_df = esm2_df[esm2_df['class'] == 'alphabeta']\n",
    "df_to_score(alphabeta_df)"
   ]
  },
  {
   "cell_type": "code",
   "execution_count": null,
   "id": "a0c97632",
   "metadata": {},
   "outputs": [],
   "source": []
  }
 ],
 "metadata": {
  "kernelspec": {
   "display_name": "process",
   "language": "python",
   "name": "python3"
  },
  "language_info": {
   "codemirror_mode": {
    "name": "ipython",
    "version": 3
   },
   "file_extension": ".py",
   "mimetype": "text/x-python",
   "name": "python",
   "nbconvert_exporter": "python",
   "pygments_lexer": "ipython3",
   "version": "3.10.16"
  }
 },
 "nbformat": 4,
 "nbformat_minor": 5
}
